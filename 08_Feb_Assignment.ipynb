{
 "cells": [
  {
   "cell_type": "code",
   "execution_count": null,
   "id": "bc927f22-15c0-45be-9e86-f955f2f78ba7",
   "metadata": {},
   "outputs": [],
   "source": [
    "# Q1. What is Abstraction in OOps? Explain with an example."
   ]
  },
  {
   "cell_type": "code",
   "execution_count": 1,
   "id": "b59fd8f7-4cf1-4f7f-adf7-b7a1395ce1c5",
   "metadata": {},
   "outputs": [],
   "source": [
    "# 1. What is Abstraction?\n",
    "# Abstraction is the process of hiding the internal details of an application from the outer world. \n",
    "# Abstraction is used to describe things in simple terms. \n",
    "# It’s used to create a boundary between the application and the client programs."
   ]
  },
  {
   "cell_type": "code",
   "execution_count": 2,
   "id": "b5b676aa-ec9f-4068-a01e-e009b2b04e51",
   "metadata": {},
   "outputs": [
    {
     "name": "stdout",
     "output_type": "stream",
     "text": [
      "The mileage is 30kmph\n",
      "The mileage is 27kmph \n",
      "The mileage is 25kmph \n",
      "The mileage is 24kmph \n"
     ]
    }
   ],
   "source": [
    "# Python program demonstrate  \n",
    "# abstract base class work   \n",
    "from abc import ABC, abstractmethod   \n",
    "class Car(ABC):   \n",
    "    def mileage(self):   \n",
    "        pass  \n",
    "class Tesla(Car):   \n",
    "    def mileage(self):   \n",
    "        print(\"The mileage is 30kmph\")   \n",
    "class Suzuki(Car):   \n",
    "    def mileage(self):   \n",
    "        print(\"The mileage is 25kmph \")   \n",
    "class Duster(Car):   \n",
    "     def mileage(self):   \n",
    "        print(\"The mileage is 24kmph \")   \n",
    "class Renault(Car):   \n",
    "    def mileage(self):   \n",
    "            print(\"The mileage is 27kmph \")   \n",
    "# Driver code   \n",
    "t= Tesla ()   \n",
    "t.mileage()   \n",
    "  \n",
    "r = Renault()   \n",
    "r.mileage()   \n",
    "  \n",
    "s = Suzuki()   \n",
    "s.mileage()   \n",
    "d = Duster()   \n",
    "d.mileage()  "
   ]
  },
  {
   "cell_type": "code",
   "execution_count": null,
   "id": "2aa933f2-e920-4c2c-aa42-22ad0ca284a2",
   "metadata": {},
   "outputs": [],
   "source": []
  },
  {
   "cell_type": "code",
   "execution_count": 3,
   "id": "60f5857f-c4b1-4d30-be2c-f0890d270a0c",
   "metadata": {},
   "outputs": [],
   "source": [
    "# Q2. Differentiate between Abstraction and Encapsulation. Explain with an example."
   ]
  },
  {
   "cell_type": "code",
   "execution_count": null,
   "id": "ba5eaaf9-67a4-421f-9ed9-31611c210424",
   "metadata": {},
   "outputs": [],
   "source": [
    "# # Differentiate between Abstraction and Encapsulation.\n",
    "# \"\"\" \n",
    "#     Abstraction:--\n",
    "#                 1):- Abstraction solve the problem in the design level.\n",
    "#                 2):- Abstraction is used for hiding the unwanted data and giving relevant data\n",
    "                \n",
    "#                 3):- Abstraction lets you focus on what the object does instead of how it does it\n",
    "#                 4):- Abstraction:- outer layout, used in tems of design \n",
    "#                 for Example:- outer look of a mobile phone, like it has a display sceen and keypad buttons to dial a number\n",
    "                \n",
    "#     Encapsulation:-\n",
    "#                 1):-Encapsulation solves the problem in the implementation level \n",
    "#                 2):-Encapsulation means hinding the code and data into a single unit to protect the data from outside world.\n",
    "#                 3):-Encapsulation means hiding the internal details or mechanics of how an object does something.\n",
    "#                 4):-Encapsulation:- Inner layout, used in terms of implementation.\n",
    "#                 for example:- Inner Implementation details of a mobile phone, how keypad button and display screen are connect with each other using circuits.\n",
    "# \"\"\"\n",
    "                "
   ]
  },
  {
   "cell_type": "code",
   "execution_count": null,
   "id": "7a363e36-7ffc-4582-9f82-f785c15f4858",
   "metadata": {},
   "outputs": [],
   "source": [
    "class Employee:\n",
    "    no_of_leaves = 8\n",
    "\n",
    "    def __init__(self, aname, asalary, arole):\n",
    "        self.name = aname\n",
    "        self.salary = asalary\n",
    "        self.role = arole\n",
    "\n",
    "    def printdetails(self):\n",
    "        return f\"The Name is {self.name}. Salary is {self.salary} and role is {self.role}\"\n",
    "\n",
    "    @classmethod\n",
    "    def change_leaves(cls, newleaves):\n",
    "        cls.no_of_leaves = newleaves\n",
    "\n",
    "    @classmethod\n",
    "    def from_dash(cls, string):\n",
    "        return cls(*string.split(\"-\"))\n",
    "\n",
    "    @staticmethod\n",
    "    def printgood(string):\n",
    "        print(\"This is good \" + string)\n",
    "\n",
    "harry = Employee(\"Ram\", 255, \"Instructor\")\n",
    "rohan = Employee(\"Karan\", 455, \"Student\")\n",
    "karan = Employee.from_dash(\"Karan-480-Student\")\n",
    "\n",
    "Employee.printgood(\"Ram\")"
   ]
  },
  {
   "cell_type": "code",
   "execution_count": null,
   "id": "bdc43808-e058-4c98-bece-0ced0efeb1ef",
   "metadata": {},
   "outputs": [],
   "source": []
  },
  {
   "cell_type": "code",
   "execution_count": null,
   "id": "64e3e7be-8416-43c0-aba8-60c6ca3c7110",
   "metadata": {},
   "outputs": [],
   "source": [
    "# Q3. What is abc module in python? Why is it used?"
   ]
  },
  {
   "cell_type": "code",
   "execution_count": null,
   "id": "c9b6afe1-84c4-452f-8e4c-caed84e10eed",
   "metadata": {},
   "outputs": [],
   "source": [
    "# #What is abc module in python?\n",
    "# Abc stand of Abstract base class:-\n",
    "#             “An abstract method is a method defined inside an abstract class.\n",
    "#             The definition may appear too simple, but the abstract method holds all the cards because it is necessary for all classes derived by the abstract class\n",
    "#             to have the same method even though their functionality and code may differ. However, the name of the method should be the same as the abstract method. \n",
    "#             The abstract method inside the abstract class could even be empty because we can not implement it anywhere. \n",
    "#             It is just so that all the other classes define a method by the same name. \n",
    "\n",
    "\n",
    "# Why is it used:-\n",
    "#               An abstract class can have both abstract methods as well as concrete methods.\n",
    "#               The abstract class works as a template for other classes. \n",
    "#               Using the abstract class, we can define a structure without properly implementing every method. \n",
    "#               t is not possible to create objects of an abstract class because Abstract class cannot be instantiated.\n",
    "#               An error will occur if the abstract method has not been implemented in the derived class."
   ]
  },
  {
   "cell_type": "code",
   "execution_count": null,
   "id": "63b5fdda-cc37-42dd-b471-0a85201f75e9",
   "metadata": {},
   "outputs": [],
   "source": [
    "# from abc import ABCMeta, abstractmethod\n",
    "from abc import ABC, abstractmethod\n",
    "\n",
    "class Shape(ABC):\n",
    "    @abstractmethod\n",
    "    def printarea(self):\n",
    "        return 0\n",
    "\n",
    "class Rectangle(Shape):\n",
    "    type = \"Rectangle\"\n",
    "    sides = 4\n",
    "    def __init__(self):\n",
    "        self.length = 6\n",
    "        self.breadth = 7\n",
    "\n",
    "    def printarea(self):\n",
    "        return self.length * self.breadth\n",
    "\n",
    "rect1 = Rectangle()\n",
    "print(rect1.printarea())"
   ]
  },
  {
   "cell_type": "code",
   "execution_count": null,
   "id": "e6d21cd3-3901-4a6b-8fd3-998d46e8d6b4",
   "metadata": {},
   "outputs": [],
   "source": [
    "# Q4. How can we achieve data abstraction?\n"
   ]
  },
  {
   "cell_type": "code",
   "execution_count": null,
   "id": "674ddf1c-8468-4b4f-ac4d-bf4bf052d78d",
   "metadata": {},
   "outputs": [],
   "source": [
    "# Achieving Abstraction in Python:\n",
    "\n",
    "#          In Python, abstraction can be achieved by having/using abstract classes and methods in our programs.\n",
    "\n",
    "# Understanding Abstract Methods and Classes:\n",
    "\n",
    "#          An abstract method is a method that is declared, but does not contain implementation."
   ]
  },
  {
   "cell_type": "code",
   "execution_count": null,
   "id": "6efce336-89c0-4f05-9043-1d17789d2c41",
   "metadata": {},
   "outputs": [],
   "source": [
    "# # Q5. Can we create an instance of an abstract class? Explain your answer.\n",
    "\n",
    "# We cannot create the instance of an abstract class \n",
    "# that means it can't be instantiated. It can only be extended by the subclass, \n",
    "# and the subclass must be provided the implantation to the abstract methods which are present in the present class.\n",
    "# Then it is necessary to declare abstract subclass."
   ]
  },
  {
   "cell_type": "code",
   "execution_count": null,
   "id": "b8659cce-9570-4a76-83f4-0ffeb441b3aa",
   "metadata": {},
   "outputs": [],
   "source": [
    "abstract class Person {  \n",
    "//declaring abstract method   \n",
    "void displayInfo();  //abstract method     \n",
    "}  \n",
    "class Boy extends Person   \n",
    "{  \n",
    "// Overriding method  \n",
    "void displayInfo() {  \n",
    "    print(\"My name is Johnathon\");  \n",
    "  \n",
    "       }  \n",
    "}  \n",
    "  \n",
    "class Girl extends Person   \n",
    "{  \n",
    "// Overriding method  \n",
    "void displayInfo() {  \n",
    "    print(\"My name is Grecia\");  \n",
    "  \n",
    "     }    \n",
    "}  \n",
    "void main() {  \n",
    "Boy b = new Boy();  // Creating Object of Boy class  \n",
    "Girl g = new Girl();  // Creating Object of Girl class  \n",
    "  \n",
    "b.displayInfo();  \n",
    "g.displayInfo();  \n",
    "}  "
   ]
  }
 ],
 "metadata": {
  "kernelspec": {
   "display_name": "Python 3 (ipykernel)",
   "language": "python",
   "name": "python3"
  },
  "language_info": {
   "codemirror_mode": {
    "name": "ipython",
    "version": 3
   },
   "file_extension": ".py",
   "mimetype": "text/x-python",
   "name": "python",
   "nbconvert_exporter": "python",
   "pygments_lexer": "ipython3",
   "version": "3.10.6"
  }
 },
 "nbformat": 4,
 "nbformat_minor": 5
}
